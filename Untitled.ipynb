{
 "cells": [
  {
   "cell_type": "code",
   "execution_count": 5,
   "id": "de2d4313-37bf-4e2e-be03-b6bd75133707",
   "metadata": {},
   "outputs": [],
   "source": [
    "import pandas as pd\n",
    "import numpy as np"
   ]
  },
  {
   "cell_type": "code",
   "execution_count": 6,
   "id": "d3ff00b5-f8d3-4dab-b78c-5c14fa910b38",
   "metadata": {},
   "outputs": [],
   "source": [
    "df = pd.read_csv('card_orig.csv')"
   ]
  },
  {
   "cell_type": "code",
   "execution_count": 7,
   "id": "4d12f7a7-6064-44d2-8069-a4e87460cb4a",
   "metadata": {},
   "outputs": [
    {
     "data": {
      "text/html": [
       "<div>\n",
       "<style scoped>\n",
       "    .dataframe tbody tr th:only-of-type {\n",
       "        vertical-align: middle;\n",
       "    }\n",
       "\n",
       "    .dataframe tbody tr th {\n",
       "        vertical-align: top;\n",
       "    }\n",
       "\n",
       "    .dataframe thead th {\n",
       "        text-align: right;\n",
       "    }\n",
       "</style>\n",
       "<table border=\"1\" class=\"dataframe\">\n",
       "  <thead>\n",
       "    <tr style=\"text-align: right;\">\n",
       "      <th></th>\n",
       "      <th>card_number</th>\n",
       "      <th>expiry_date</th>\n",
       "      <th>card_provider</th>\n",
       "      <th>date_payment_confirmed</th>\n",
       "    </tr>\n",
       "  </thead>\n",
       "  <tbody>\n",
       "    <tr>\n",
       "      <th>0</th>\n",
       "      <td>30060773296197</td>\n",
       "      <td>09/26</td>\n",
       "      <td>Diners Club / Carte Blanche</td>\n",
       "      <td>2015-11-25</td>\n",
       "    </tr>\n",
       "    <tr>\n",
       "      <th>1</th>\n",
       "      <td>349624180933183</td>\n",
       "      <td>10/23</td>\n",
       "      <td>American Express</td>\n",
       "      <td>2001-06-18</td>\n",
       "    </tr>\n",
       "    <tr>\n",
       "      <th>2</th>\n",
       "      <td>3529023891650490</td>\n",
       "      <td>06/23</td>\n",
       "      <td>JCB 16 digit</td>\n",
       "      <td>2000-12-26</td>\n",
       "    </tr>\n",
       "    <tr>\n",
       "      <th>3</th>\n",
       "      <td>213142929492281</td>\n",
       "      <td>09/27</td>\n",
       "      <td>JCB 15 digit</td>\n",
       "      <td>2011-02-12</td>\n",
       "    </tr>\n",
       "    <tr>\n",
       "      <th>4</th>\n",
       "      <td>502067329974</td>\n",
       "      <td>10/25</td>\n",
       "      <td>Maestro</td>\n",
       "      <td>1997-03-13</td>\n",
       "    </tr>\n",
       "  </tbody>\n",
       "</table>\n",
       "</div>"
      ],
      "text/plain": [
       "        card_number expiry_date                card_provider  \\\n",
       "0    30060773296197       09/26  Diners Club / Carte Blanche   \n",
       "1   349624180933183       10/23             American Express   \n",
       "2  3529023891650490       06/23                 JCB 16 digit   \n",
       "3   213142929492281       09/27                 JCB 15 digit   \n",
       "4      502067329974       10/25                      Maestro   \n",
       "\n",
       "  date_payment_confirmed  \n",
       "0             2015-11-25  \n",
       "1             2001-06-18  \n",
       "2             2000-12-26  \n",
       "3             2011-02-12  \n",
       "4             1997-03-13  "
      ]
     },
     "execution_count": 7,
     "metadata": {},
     "output_type": "execute_result"
    }
   ],
   "source": [
    "df.head()"
   ]
  },
  {
   "cell_type": "code",
   "execution_count": 8,
   "id": "bae30232-9789-414a-9df0-fc07a58836d5",
   "metadata": {},
   "outputs": [
    {
     "data": {
      "text/plain": [
       "(15309, 4)"
      ]
     },
     "execution_count": 8,
     "metadata": {},
     "output_type": "execute_result"
    }
   ],
   "source": [
    "df.shape"
   ]
  },
  {
   "cell_type": "code",
   "execution_count": 9,
   "id": "a4ea3abe-298f-467f-bd13-8f211283c18b",
   "metadata": {},
   "outputs": [],
   "source": [
    "def clean_card_number(card_number):\n",
    "    return ''.join(char for char in str(card_number) if char.isdigit())\n",
    "\n",
    "# Apply the cleaning function to the 'card_number' column\n",
    "df['card_number'] = df['card_number'].apply(clean_card_number)"
   ]
  },
  {
   "cell_type": "code",
   "execution_count": 10,
   "id": "1788c661-38b5-4f9c-adb1-d350b226d6d5",
   "metadata": {},
   "outputs": [
    {
     "data": {
      "text/plain": [
       "(15309, 4)"
      ]
     },
     "execution_count": 10,
     "metadata": {},
     "output_type": "execute_result"
    }
   ],
   "source": [
    "df.shape"
   ]
  },
  {
   "cell_type": "code",
   "execution_count": null,
   "id": "0035491c-bbf1-4d31-b3a4-37de3c66acf6",
   "metadata": {},
   "outputs": [],
   "source": [
    "cleaned_df = df.copy()  # Create a copy to avoid modifying the original DataFrame\n",
    "cleaned_df.to_csv('store_data_orig.csv')\n",
    "        # cleaned_df = cleaned_df.drop_duplicates()\n",
    "        # print(cleaned_df.shape)\n",
    "cleaned_df.replace({'continent': ['eeEurope', 'eeAmerica']}, {'continent': ['Europe', 'America']}, inplace=True)\n",
    "cleaned_df['opening_date'] = pd.to_datetime(cleaned_df['opening_date'], infer_datetime_format=True, errors='coerce')\n",
    "cleaned_df.drop(columns='lat', inplace=True)\n",
    "cleaned_df['staff_numbers'] = cleaned_df['staff_numbers'].str.replace(r'[a-zA-Z]', '', regex=True)\n",
    "cleaned_df['staff_numbers'] = pd.to_numeric(cleaned_df[\"staff_numbers\"], errors='coerce')\n",
    "cleaned_df[\"longitude\"] = pd.to_numeric(cleaned_df[\"longitude\"], errors='coerce')\n",
    "cleaned_df[\"latitude\"] = pd.to_numeric(cleaned_df[\"latitude\"], errors='coerce')\n",
    "        \n",
    "        cleaned_df = cleaned_df.replace('N/A', np.nan)\n",
    "        cleaned_df = cleaned_df.replace('NULL', np.nan)\n",
    "        cleaned_df.dropna(subset=['opening_date', 'store_type','staff_numbers'], inplace=True)"
   ]
  }
 ],
 "metadata": {
  "kernelspec": {
   "display_name": "Python 3 (ipykernel)",
   "language": "python",
   "name": "python3"
  },
  "language_info": {
   "codemirror_mode": {
    "name": "ipython",
    "version": 3
   },
   "file_extension": ".py",
   "mimetype": "text/x-python",
   "name": "python",
   "nbconvert_exporter": "python",
   "pygments_lexer": "ipython3",
   "version": "3.11.4"
  }
 },
 "nbformat": 4,
 "nbformat_minor": 5
}
